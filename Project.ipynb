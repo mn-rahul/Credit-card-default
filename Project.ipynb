{
 "cells": [
  {
   "cell_type": "code",
   "execution_count": 27,
   "metadata": {},
   "outputs": [],
   "source": [
    "import numpy as np\n",
    "import pandas as pd\n",
    "import matplotlib.pylab as plt\n",
    "plt.figure(figsize=(20,10))\n",
    "%matplotlib inline \n",
    "import seaborn as sns\n",
    "import sklearn\n",
    "import scipy"
   ]
  },
  {
   "cell_type": "code",
   "execution_count": 28,
   "metadata": {},
   "outputs": [],
   "source": [
    "missing_values=[\"na\",\"N/A\",\"missing\"]\n",
    "data = pd.read_csv(\"TrainingData.csv\",na_values = missing_values)\n",
    "data=data.drop(['application_key'],axis=1)"
   ]
  },
  {
   "cell_type": "code",
   "execution_count": 29,
   "metadata": {
    "scrolled": true
   },
   "outputs": [
    {
     "data": {
      "text/plain": [
       "(83000, 49)"
      ]
     },
     "execution_count": 29,
     "metadata": {},
     "output_type": "execute_result"
    }
   ],
   "source": [
    "data.shape"
   ]
  },
  {
   "cell_type": "code",
   "execution_count": 30,
   "metadata": {
    "scrolled": true
   },
   "outputs": [
    {
     "data": {
      "text/html": [
       "<div>\n",
       "<style scoped>\n",
       "    .dataframe tbody tr th:only-of-type {\n",
       "        vertical-align: middle;\n",
       "    }\n",
       "\n",
       "    .dataframe tbody tr th {\n",
       "        vertical-align: top;\n",
       "    }\n",
       "\n",
       "    .dataframe thead th {\n",
       "        text-align: right;\n",
       "    }\n",
       "</style>\n",
       "<table border=\"1\" class=\"dataframe\">\n",
       "  <thead>\n",
       "    <tr style=\"text-align: right;\">\n",
       "      <th></th>\n",
       "      <th>mvar1</th>\n",
       "      <th>mvar2</th>\n",
       "      <th>mvar3</th>\n",
       "      <th>mvar4</th>\n",
       "      <th>mvar5</th>\n",
       "      <th>mvar6</th>\n",
       "      <th>mvar7</th>\n",
       "      <th>mvar8</th>\n",
       "      <th>mvar9</th>\n",
       "      <th>mvar10</th>\n",
       "      <th>...</th>\n",
       "      <th>mvar40</th>\n",
       "      <th>mvar41</th>\n",
       "      <th>mvar42</th>\n",
       "      <th>mvar43</th>\n",
       "      <th>mvar44</th>\n",
       "      <th>mvar45</th>\n",
       "      <th>mvar46</th>\n",
       "      <th>mvar47</th>\n",
       "      <th>mvar48</th>\n",
       "      <th>default_ind</th>\n",
       "    </tr>\n",
       "  </thead>\n",
       "  <tbody>\n",
       "    <tr>\n",
       "      <td>0</td>\n",
       "      <td>1696.0</td>\n",
       "      <td>1.6541</td>\n",
       "      <td>0.000</td>\n",
       "      <td>0.0</td>\n",
       "      <td>0.0</td>\n",
       "      <td>0.0</td>\n",
       "      <td>6015.0</td>\n",
       "      <td>322.0</td>\n",
       "      <td>40369.0</td>\n",
       "      <td>18414.0</td>\n",
       "      <td>...</td>\n",
       "      <td>73.780</td>\n",
       "      <td>82.547</td>\n",
       "      <td>0.08696</td>\n",
       "      <td>10.0</td>\n",
       "      <td>0.63899</td>\n",
       "      <td>NaN</td>\n",
       "      <td>0.0</td>\n",
       "      <td>C</td>\n",
       "      <td>10</td>\n",
       "      <td>0</td>\n",
       "    </tr>\n",
       "    <tr>\n",
       "      <td>1</td>\n",
       "      <td>1846.0</td>\n",
       "      <td>0.8095</td>\n",
       "      <td>0.000</td>\n",
       "      <td>0.0</td>\n",
       "      <td>0.0</td>\n",
       "      <td>102.0</td>\n",
       "      <td>7532.0</td>\n",
       "      <td>3171.0</td>\n",
       "      <td>18234.0</td>\n",
       "      <td>13664.0</td>\n",
       "      <td>...</td>\n",
       "      <td>99.129</td>\n",
       "      <td>NaN</td>\n",
       "      <td>0.00000</td>\n",
       "      <td>13.0</td>\n",
       "      <td>0.63836</td>\n",
       "      <td>NaN</td>\n",
       "      <td>NaN</td>\n",
       "      <td>L</td>\n",
       "      <td>732</td>\n",
       "      <td>1</td>\n",
       "    </tr>\n",
       "    <tr>\n",
       "      <td>2</td>\n",
       "      <td>1745.0</td>\n",
       "      <td>0.4001</td>\n",
       "      <td>0.000</td>\n",
       "      <td>0.0</td>\n",
       "      <td>0.0</td>\n",
       "      <td>NaN</td>\n",
       "      <td>2536.0</td>\n",
       "      <td>NaN</td>\n",
       "      <td>NaN</td>\n",
       "      <td>2536.0</td>\n",
       "      <td>...</td>\n",
       "      <td>NaN</td>\n",
       "      <td>29.290</td>\n",
       "      <td>0.00000</td>\n",
       "      <td>1.0</td>\n",
       "      <td>1.00000</td>\n",
       "      <td>NaN</td>\n",
       "      <td>0.0</td>\n",
       "      <td>C</td>\n",
       "      <td>89</td>\n",
       "      <td>1</td>\n",
       "    </tr>\n",
       "    <tr>\n",
       "      <td>3</td>\n",
       "      <td>1739.0</td>\n",
       "      <td>0.2193</td>\n",
       "      <td>0.000</td>\n",
       "      <td>0.0</td>\n",
       "      <td>0.0</td>\n",
       "      <td>1982.0</td>\n",
       "      <td>26440.0</td>\n",
       "      <td>4955.0</td>\n",
       "      <td>20316.0</td>\n",
       "      <td>37013.0</td>\n",
       "      <td>...</td>\n",
       "      <td>96.272</td>\n",
       "      <td>NaN</td>\n",
       "      <td>0.15385</td>\n",
       "      <td>3.0</td>\n",
       "      <td>0.53241</td>\n",
       "      <td>0.0</td>\n",
       "      <td>0.0</td>\n",
       "      <td>L</td>\n",
       "      <td>3</td>\n",
       "      <td>0</td>\n",
       "    </tr>\n",
       "    <tr>\n",
       "      <td>4</td>\n",
       "      <td>1787.0</td>\n",
       "      <td>0.0118</td>\n",
       "      <td>0.225</td>\n",
       "      <td>0.0</td>\n",
       "      <td>0.0</td>\n",
       "      <td>5451.0</td>\n",
       "      <td>5494.0</td>\n",
       "      <td>5494.0</td>\n",
       "      <td>7987.0</td>\n",
       "      <td>4696.0</td>\n",
       "      <td>...</td>\n",
       "      <td>115.019</td>\n",
       "      <td>NaN</td>\n",
       "      <td>0.00000</td>\n",
       "      <td>1.0</td>\n",
       "      <td>0.92665</td>\n",
       "      <td>NaN</td>\n",
       "      <td>NaN</td>\n",
       "      <td>L</td>\n",
       "      <td>5</td>\n",
       "      <td>0</td>\n",
       "    </tr>\n",
       "    <tr>\n",
       "      <td>5</td>\n",
       "      <td>1579.0</td>\n",
       "      <td>NaN</td>\n",
       "      <td>3.502</td>\n",
       "      <td>0.0</td>\n",
       "      <td>0.0</td>\n",
       "      <td>NaN</td>\n",
       "      <td>NaN</td>\n",
       "      <td>NaN</td>\n",
       "      <td>NaN</td>\n",
       "      <td>0.0</td>\n",
       "      <td>...</td>\n",
       "      <td>NaN</td>\n",
       "      <td>NaN</td>\n",
       "      <td>1.50000</td>\n",
       "      <td>0.0</td>\n",
       "      <td>NaN</td>\n",
       "      <td>NaN</td>\n",
       "      <td>NaN</td>\n",
       "      <td>C</td>\n",
       "      <td>35</td>\n",
       "      <td>1</td>\n",
       "    </tr>\n",
       "    <tr>\n",
       "      <td>6</td>\n",
       "      <td>1818.0</td>\n",
       "      <td>0.4001</td>\n",
       "      <td>0.000</td>\n",
       "      <td>0.0</td>\n",
       "      <td>0.0</td>\n",
       "      <td>NaN</td>\n",
       "      <td>1088.0</td>\n",
       "      <td>NaN</td>\n",
       "      <td>1536.0</td>\n",
       "      <td>1498.0</td>\n",
       "      <td>...</td>\n",
       "      <td>88.171</td>\n",
       "      <td>NaN</td>\n",
       "      <td>0.00000</td>\n",
       "      <td>2.0</td>\n",
       "      <td>0.87224</td>\n",
       "      <td>NaN</td>\n",
       "      <td>0.0</td>\n",
       "      <td>C</td>\n",
       "      <td>2</td>\n",
       "      <td>1</td>\n",
       "    </tr>\n",
       "    <tr>\n",
       "      <td>7</td>\n",
       "      <td>NaN</td>\n",
       "      <td>NaN</td>\n",
       "      <td>NaN</td>\n",
       "      <td>NaN</td>\n",
       "      <td>NaN</td>\n",
       "      <td>NaN</td>\n",
       "      <td>NaN</td>\n",
       "      <td>NaN</td>\n",
       "      <td>NaN</td>\n",
       "      <td>NaN</td>\n",
       "      <td>...</td>\n",
       "      <td>NaN</td>\n",
       "      <td>NaN</td>\n",
       "      <td>NaN</td>\n",
       "      <td>NaN</td>\n",
       "      <td>NaN</td>\n",
       "      <td>NaN</td>\n",
       "      <td>NaN</td>\n",
       "      <td>C</td>\n",
       "      <td>2</td>\n",
       "      <td>0</td>\n",
       "    </tr>\n",
       "    <tr>\n",
       "      <td>8</td>\n",
       "      <td>1836.0</td>\n",
       "      <td>0.1358</td>\n",
       "      <td>0.000</td>\n",
       "      <td>0.0</td>\n",
       "      <td>0.0</td>\n",
       "      <td>347.0</td>\n",
       "      <td>38964.0</td>\n",
       "      <td>17828.0</td>\n",
       "      <td>70729.0</td>\n",
       "      <td>65843.0</td>\n",
       "      <td>...</td>\n",
       "      <td>NaN</td>\n",
       "      <td>NaN</td>\n",
       "      <td>0.00000</td>\n",
       "      <td>10.0</td>\n",
       "      <td>0.89868</td>\n",
       "      <td>0.0</td>\n",
       "      <td>0.0</td>\n",
       "      <td>L</td>\n",
       "      <td>5</td>\n",
       "      <td>1</td>\n",
       "    </tr>\n",
       "    <tr>\n",
       "      <td>9</td>\n",
       "      <td>1839.0</td>\n",
       "      <td>0.1981</td>\n",
       "      <td>0.000</td>\n",
       "      <td>0.0</td>\n",
       "      <td>0.0</td>\n",
       "      <td>793.0</td>\n",
       "      <td>6131.0</td>\n",
       "      <td>6045.0</td>\n",
       "      <td>48959.0</td>\n",
       "      <td>31640.0</td>\n",
       "      <td>...</td>\n",
       "      <td>NaN</td>\n",
       "      <td>45.590</td>\n",
       "      <td>0.08824</td>\n",
       "      <td>14.0</td>\n",
       "      <td>0.33834</td>\n",
       "      <td>NaN</td>\n",
       "      <td>0.0</td>\n",
       "      <td>L</td>\n",
       "      <td>3247</td>\n",
       "      <td>0</td>\n",
       "    </tr>\n",
       "  </tbody>\n",
       "</table>\n",
       "<p>10 rows × 49 columns</p>\n",
       "</div>"
      ],
      "text/plain": [
       "    mvar1   mvar2  mvar3  mvar4  mvar5   mvar6    mvar7    mvar8    mvar9  \\\n",
       "0  1696.0  1.6541  0.000    0.0    0.0     0.0   6015.0    322.0  40369.0   \n",
       "1  1846.0  0.8095  0.000    0.0    0.0   102.0   7532.0   3171.0  18234.0   \n",
       "2  1745.0  0.4001  0.000    0.0    0.0     NaN   2536.0      NaN      NaN   \n",
       "3  1739.0  0.2193  0.000    0.0    0.0  1982.0  26440.0   4955.0  20316.0   \n",
       "4  1787.0  0.0118  0.225    0.0    0.0  5451.0   5494.0   5494.0   7987.0   \n",
       "5  1579.0     NaN  3.502    0.0    0.0     NaN      NaN      NaN      NaN   \n",
       "6  1818.0  0.4001  0.000    0.0    0.0     NaN   1088.0      NaN   1536.0   \n",
       "7     NaN     NaN    NaN    NaN    NaN     NaN      NaN      NaN      NaN   \n",
       "8  1836.0  0.1358  0.000    0.0    0.0   347.0  38964.0  17828.0  70729.0   \n",
       "9  1839.0  0.1981  0.000    0.0    0.0   793.0   6131.0   6045.0  48959.0   \n",
       "\n",
       "    mvar10  ...   mvar40  mvar41   mvar42  mvar43   mvar44  mvar45  mvar46  \\\n",
       "0  18414.0  ...   73.780  82.547  0.08696    10.0  0.63899     NaN     0.0   \n",
       "1  13664.0  ...   99.129     NaN  0.00000    13.0  0.63836     NaN     NaN   \n",
       "2   2536.0  ...      NaN  29.290  0.00000     1.0  1.00000     NaN     0.0   \n",
       "3  37013.0  ...   96.272     NaN  0.15385     3.0  0.53241     0.0     0.0   \n",
       "4   4696.0  ...  115.019     NaN  0.00000     1.0  0.92665     NaN     NaN   \n",
       "5      0.0  ...      NaN     NaN  1.50000     0.0      NaN     NaN     NaN   \n",
       "6   1498.0  ...   88.171     NaN  0.00000     2.0  0.87224     NaN     0.0   \n",
       "7      NaN  ...      NaN     NaN      NaN     NaN      NaN     NaN     NaN   \n",
       "8  65843.0  ...      NaN     NaN  0.00000    10.0  0.89868     0.0     0.0   \n",
       "9  31640.0  ...      NaN  45.590  0.08824    14.0  0.33834     NaN     0.0   \n",
       "\n",
       "   mvar47  mvar48  default_ind  \n",
       "0       C      10            0  \n",
       "1       L     732            1  \n",
       "2       C      89            1  \n",
       "3       L       3            0  \n",
       "4       L       5            0  \n",
       "5       C      35            1  \n",
       "6       C       2            1  \n",
       "7       C       2            0  \n",
       "8       L       5            1  \n",
       "9       L    3247            0  \n",
       "\n",
       "[10 rows x 49 columns]"
      ]
     },
     "execution_count": 30,
     "metadata": {},
     "output_type": "execute_result"
    }
   ],
   "source": [
    "data.head(10)"
   ]
  },
  {
   "cell_type": "code",
   "execution_count": 31,
   "metadata": {
    "scrolled": false
   },
   "outputs": [
    {
     "data": {
      "text/html": [
       "<div>\n",
       "<style scoped>\n",
       "    .dataframe tbody tr th:only-of-type {\n",
       "        vertical-align: middle;\n",
       "    }\n",
       "\n",
       "    .dataframe tbody tr th {\n",
       "        vertical-align: top;\n",
       "    }\n",
       "\n",
       "    .dataframe thead th {\n",
       "        text-align: right;\n",
       "    }\n",
       "</style>\n",
       "<table border=\"1\" class=\"dataframe\">\n",
       "  <thead>\n",
       "    <tr style=\"text-align: right;\">\n",
       "      <th></th>\n",
       "      <th>mvar1</th>\n",
       "      <th>mvar2</th>\n",
       "      <th>mvar3</th>\n",
       "      <th>mvar4</th>\n",
       "      <th>mvar5</th>\n",
       "      <th>mvar6</th>\n",
       "      <th>mvar7</th>\n",
       "      <th>mvar8</th>\n",
       "      <th>mvar9</th>\n",
       "      <th>mvar10</th>\n",
       "      <th>...</th>\n",
       "      <th>mvar39</th>\n",
       "      <th>mvar40</th>\n",
       "      <th>mvar41</th>\n",
       "      <th>mvar42</th>\n",
       "      <th>mvar43</th>\n",
       "      <th>mvar44</th>\n",
       "      <th>mvar45</th>\n",
       "      <th>mvar46</th>\n",
       "      <th>mvar48</th>\n",
       "      <th>default_ind</th>\n",
       "    </tr>\n",
       "  </thead>\n",
       "  <tbody>\n",
       "    <tr>\n",
       "      <td>count</td>\n",
       "      <td>79267.000000</td>\n",
       "      <td>77114.000000</td>\n",
       "      <td>82465.000000</td>\n",
       "      <td>82465.000000</td>\n",
       "      <td>82465.000000</td>\n",
       "      <td>63299.000000</td>\n",
       "      <td>7.532600e+04</td>\n",
       "      <td>63291.000000</td>\n",
       "      <td>71318.000000</td>\n",
       "      <td>8.246500e+04</td>\n",
       "      <td>...</td>\n",
       "      <td>76671.000000</td>\n",
       "      <td>17930.000000</td>\n",
       "      <td>25736.000000</td>\n",
       "      <td>80977.000000</td>\n",
       "      <td>82111.000000</td>\n",
       "      <td>74851.000000</td>\n",
       "      <td>37080.000000</td>\n",
       "      <td>59397.000000</td>\n",
       "      <td>83000.000000</td>\n",
       "      <td>83000.000000</td>\n",
       "    </tr>\n",
       "    <tr>\n",
       "      <td>mean</td>\n",
       "      <td>1747.511865</td>\n",
       "      <td>1.054816</td>\n",
       "      <td>5.401784</td>\n",
       "      <td>0.461151</td>\n",
       "      <td>1.084012</td>\n",
       "      <td>1633.429280</td>\n",
       "      <td>1.750797e+04</td>\n",
       "      <td>6822.332227</td>\n",
       "      <td>34030.596329</td>\n",
       "      <td>3.022857e+04</td>\n",
       "      <td>...</td>\n",
       "      <td>0.087673</td>\n",
       "      <td>97.851158</td>\n",
       "      <td>72.016570</td>\n",
       "      <td>0.331550</td>\n",
       "      <td>6.553604</td>\n",
       "      <td>0.706595</td>\n",
       "      <td>0.070523</td>\n",
       "      <td>0.093187</td>\n",
       "      <td>556.021277</td>\n",
       "      <td>0.287410</td>\n",
       "    </tr>\n",
       "    <tr>\n",
       "      <td>std</td>\n",
       "      <td>94.830127</td>\n",
       "      <td>1.556682</td>\n",
       "      <td>11.091569</td>\n",
       "      <td>1.704292</td>\n",
       "      <td>5.743899</td>\n",
       "      <td>3667.183981</td>\n",
       "      <td>4.677222e+04</td>\n",
       "      <td>10060.346814</td>\n",
       "      <td>50673.150005</td>\n",
       "      <td>6.617798e+04</td>\n",
       "      <td>...</td>\n",
       "      <td>0.423403</td>\n",
       "      <td>29.530657</td>\n",
       "      <td>24.508469</td>\n",
       "      <td>0.373973</td>\n",
       "      <td>6.273107</td>\n",
       "      <td>0.245915</td>\n",
       "      <td>0.290383</td>\n",
       "      <td>0.329054</td>\n",
       "      <td>1106.953295</td>\n",
       "      <td>0.452557</td>\n",
       "    </tr>\n",
       "    <tr>\n",
       "      <td>min</td>\n",
       "      <td>1477.000000</td>\n",
       "      <td>0.000000</td>\n",
       "      <td>0.000000</td>\n",
       "      <td>0.000000</td>\n",
       "      <td>0.000000</td>\n",
       "      <td>0.000000</td>\n",
       "      <td>0.000000e+00</td>\n",
       "      <td>0.000000</td>\n",
       "      <td>0.000000</td>\n",
       "      <td>0.000000e+00</td>\n",
       "      <td>...</td>\n",
       "      <td>0.000000</td>\n",
       "      <td>0.014000</td>\n",
       "      <td>0.000000</td>\n",
       "      <td>0.000000</td>\n",
       "      <td>0.000000</td>\n",
       "      <td>0.060660</td>\n",
       "      <td>0.000000</td>\n",
       "      <td>0.000000</td>\n",
       "      <td>2.000000</td>\n",
       "      <td>0.000000</td>\n",
       "    </tr>\n",
       "    <tr>\n",
       "      <td>25%</td>\n",
       "      <td>1680.000000</td>\n",
       "      <td>0.131800</td>\n",
       "      <td>0.000000</td>\n",
       "      <td>0.000000</td>\n",
       "      <td>0.000000</td>\n",
       "      <td>41.000000</td>\n",
       "      <td>1.750250e+03</td>\n",
       "      <td>496.000000</td>\n",
       "      <td>3542.250000</td>\n",
       "      <td>1.153000e+03</td>\n",
       "      <td>...</td>\n",
       "      <td>0.000000</td>\n",
       "      <td>90.149500</td>\n",
       "      <td>58.174750</td>\n",
       "      <td>0.000000</td>\n",
       "      <td>2.000000</td>\n",
       "      <td>0.515280</td>\n",
       "      <td>0.000000</td>\n",
       "      <td>0.000000</td>\n",
       "      <td>8.000000</td>\n",
       "      <td>0.000000</td>\n",
       "    </tr>\n",
       "    <tr>\n",
       "      <td>50%</td>\n",
       "      <td>1743.000000</td>\n",
       "      <td>0.513000</td>\n",
       "      <td>0.300000</td>\n",
       "      <td>0.000000</td>\n",
       "      <td>0.000000</td>\n",
       "      <td>297.000000</td>\n",
       "      <td>7.020500e+03</td>\n",
       "      <td>2507.000000</td>\n",
       "      <td>14389.000000</td>\n",
       "      <td>9.525000e+03</td>\n",
       "      <td>...</td>\n",
       "      <td>0.000000</td>\n",
       "      <td>100.000000</td>\n",
       "      <td>78.839500</td>\n",
       "      <td>0.200000</td>\n",
       "      <td>5.000000</td>\n",
       "      <td>0.739500</td>\n",
       "      <td>0.000000</td>\n",
       "      <td>0.000000</td>\n",
       "      <td>17.000000</td>\n",
       "      <td>0.000000</td>\n",
       "    </tr>\n",
       "    <tr>\n",
       "      <td>75%</td>\n",
       "      <td>1813.000000</td>\n",
       "      <td>1.386200</td>\n",
       "      <td>6.595000</td>\n",
       "      <td>0.000000</td>\n",
       "      <td>0.000000</td>\n",
       "      <td>1381.000000</td>\n",
       "      <td>1.811300e+04</td>\n",
       "      <td>9869.500000</td>\n",
       "      <td>44413.000000</td>\n",
       "      <td>3.428800e+04</td>\n",
       "      <td>...</td>\n",
       "      <td>0.000000</td>\n",
       "      <td>111.327000</td>\n",
       "      <td>91.596750</td>\n",
       "      <td>0.571430</td>\n",
       "      <td>10.000000</td>\n",
       "      <td>0.945120</td>\n",
       "      <td>0.000000</td>\n",
       "      <td>0.000000</td>\n",
       "      <td>111.000000</td>\n",
       "      <td>1.000000</td>\n",
       "    </tr>\n",
       "    <tr>\n",
       "      <td>max</td>\n",
       "      <td>1950.000000</td>\n",
       "      <td>31.018100</td>\n",
       "      <td>399.334000</td>\n",
       "      <td>25.754000</td>\n",
       "      <td>165.492000</td>\n",
       "      <td>94302.000000</td>\n",
       "      <td>5.637108e+06</td>\n",
       "      <td>291810.000000</td>\n",
       "      <td>840658.000000</td>\n",
       "      <td>5.647073e+06</td>\n",
       "      <td>...</td>\n",
       "      <td>21.000000</td>\n",
       "      <td>631.360000</td>\n",
       "      <td>182.111000</td>\n",
       "      <td>2.000000</td>\n",
       "      <td>91.000000</td>\n",
       "      <td>1.000000</td>\n",
       "      <td>7.000000</td>\n",
       "      <td>5.000000</td>\n",
       "      <td>3247.000000</td>\n",
       "      <td>1.000000</td>\n",
       "    </tr>\n",
       "  </tbody>\n",
       "</table>\n",
       "<p>8 rows × 48 columns</p>\n",
       "</div>"
      ],
      "text/plain": [
       "              mvar1         mvar2         mvar3         mvar4         mvar5  \\\n",
       "count  79267.000000  77114.000000  82465.000000  82465.000000  82465.000000   \n",
       "mean    1747.511865      1.054816      5.401784      0.461151      1.084012   \n",
       "std       94.830127      1.556682     11.091569      1.704292      5.743899   \n",
       "min     1477.000000      0.000000      0.000000      0.000000      0.000000   \n",
       "25%     1680.000000      0.131800      0.000000      0.000000      0.000000   \n",
       "50%     1743.000000      0.513000      0.300000      0.000000      0.000000   \n",
       "75%     1813.000000      1.386200      6.595000      0.000000      0.000000   \n",
       "max     1950.000000     31.018100    399.334000     25.754000    165.492000   \n",
       "\n",
       "              mvar6         mvar7          mvar8          mvar9        mvar10  \\\n",
       "count  63299.000000  7.532600e+04   63291.000000   71318.000000  8.246500e+04   \n",
       "mean    1633.429280  1.750797e+04    6822.332227   34030.596329  3.022857e+04   \n",
       "std     3667.183981  4.677222e+04   10060.346814   50673.150005  6.617798e+04   \n",
       "min        0.000000  0.000000e+00       0.000000       0.000000  0.000000e+00   \n",
       "25%       41.000000  1.750250e+03     496.000000    3542.250000  1.153000e+03   \n",
       "50%      297.000000  7.020500e+03    2507.000000   14389.000000  9.525000e+03   \n",
       "75%     1381.000000  1.811300e+04    9869.500000   44413.000000  3.428800e+04   \n",
       "max    94302.000000  5.637108e+06  291810.000000  840658.000000  5.647073e+06   \n",
       "\n",
       "       ...        mvar39        mvar40        mvar41        mvar42  \\\n",
       "count  ...  76671.000000  17930.000000  25736.000000  80977.000000   \n",
       "mean   ...      0.087673     97.851158     72.016570      0.331550   \n",
       "std    ...      0.423403     29.530657     24.508469      0.373973   \n",
       "min    ...      0.000000      0.014000      0.000000      0.000000   \n",
       "25%    ...      0.000000     90.149500     58.174750      0.000000   \n",
       "50%    ...      0.000000    100.000000     78.839500      0.200000   \n",
       "75%    ...      0.000000    111.327000     91.596750      0.571430   \n",
       "max    ...     21.000000    631.360000    182.111000      2.000000   \n",
       "\n",
       "             mvar43        mvar44        mvar45        mvar46        mvar48  \\\n",
       "count  82111.000000  74851.000000  37080.000000  59397.000000  83000.000000   \n",
       "mean       6.553604      0.706595      0.070523      0.093187    556.021277   \n",
       "std        6.273107      0.245915      0.290383      0.329054   1106.953295   \n",
       "min        0.000000      0.060660      0.000000      0.000000      2.000000   \n",
       "25%        2.000000      0.515280      0.000000      0.000000      8.000000   \n",
       "50%        5.000000      0.739500      0.000000      0.000000     17.000000   \n",
       "75%       10.000000      0.945120      0.000000      0.000000    111.000000   \n",
       "max       91.000000      1.000000      7.000000      5.000000   3247.000000   \n",
       "\n",
       "        default_ind  \n",
       "count  83000.000000  \n",
       "mean       0.287410  \n",
       "std        0.452557  \n",
       "min        0.000000  \n",
       "25%        0.000000  \n",
       "50%        0.000000  \n",
       "75%        1.000000  \n",
       "max        1.000000  \n",
       "\n",
       "[8 rows x 48 columns]"
      ]
     },
     "execution_count": 31,
     "metadata": {},
     "output_type": "execute_result"
    }
   ],
   "source": [
    "data.describe()"
   ]
  },
  {
   "cell_type": "code",
   "execution_count": 32,
   "metadata": {
    "scrolled": false
   },
   "outputs": [
    {
     "name": "stdout",
     "output_type": "stream",
     "text": [
      "<class 'pandas.core.frame.DataFrame'>\n",
      "RangeIndex: 83000 entries, 0 to 82999\n",
      "Data columns (total 49 columns):\n",
      "mvar1          79267 non-null float64\n",
      "mvar2          77114 non-null float64\n",
      "mvar3          82465 non-null float64\n",
      "mvar4          82465 non-null float64\n",
      "mvar5          82465 non-null float64\n",
      "mvar6          63299 non-null float64\n",
      "mvar7          75326 non-null float64\n",
      "mvar8          63291 non-null float64\n",
      "mvar9          71318 non-null float64\n",
      "mvar10         82465 non-null float64\n",
      "mvar11         36283 non-null float64\n",
      "mvar12         68422 non-null float64\n",
      "mvar13         73311 non-null float64\n",
      "mvar14         83000 non-null int64\n",
      "mvar15         49481 non-null float64\n",
      "mvar16         63757 non-null float64\n",
      "mvar17         66501 non-null float64\n",
      "mvar18         67641 non-null float64\n",
      "mvar19         82995 non-null float64\n",
      "mvar20         82465 non-null float64\n",
      "mvar21         59538 non-null float64\n",
      "mvar22         52332 non-null float64\n",
      "mvar23         40689 non-null float64\n",
      "mvar24         63470 non-null float64\n",
      "mvar25         75138 non-null float64\n",
      "mvar26         72071 non-null float64\n",
      "mvar27         69350 non-null float64\n",
      "mvar28         82465 non-null float64\n",
      "mvar29         82465 non-null float64\n",
      "mvar30         45012 non-null float64\n",
      "mvar31         24461 non-null float64\n",
      "mvar32         75138 non-null float64\n",
      "mvar33         81131 non-null float64\n",
      "mvar34         82465 non-null float64\n",
      "mvar35         48132 non-null float64\n",
      "mvar36         79841 non-null float64\n",
      "mvar37         75138 non-null float64\n",
      "mvar38         82465 non-null float64\n",
      "mvar39         76671 non-null float64\n",
      "mvar40         17930 non-null float64\n",
      "mvar41         25736 non-null float64\n",
      "mvar42         80977 non-null float64\n",
      "mvar43         82111 non-null float64\n",
      "mvar44         74851 non-null float64\n",
      "mvar45         37080 non-null float64\n",
      "mvar46         59397 non-null float64\n",
      "mvar47         83000 non-null object\n",
      "mvar48         83000 non-null int64\n",
      "default_ind    83000 non-null int64\n",
      "dtypes: float64(45), int64(3), object(1)\n",
      "memory usage: 31.0+ MB\n"
     ]
    }
   ],
   "source": [
    "data.info()"
   ]
  },
  {
   "cell_type": "code",
   "execution_count": 33,
   "metadata": {
    "scrolled": true
   },
   "outputs": [
    {
     "data": {
      "image/png": "[encoded data removed]",
      "text/plain": [
       "<Figure size 1440x1440 with 49 Axes>"
      ]
     },
     "metadata": {
      "needs_background": "light"
     },
     "output_type": "display_data"
    }
   ],
   "source": [
    "data.hist(figsize=(20,20))\n",
    "plt.show()"
   ]
  },
  {
   "cell_type": "code",
   "execution_count": 34,
   "metadata": {
    "scrolled": true
   },
   "outputs": [
    {
     "data": {
      "text/html": [
       "<div>\n",
       "<style scoped>\n",
       "    .dataframe tbody tr th:only-of-type {\n",
       "        vertical-align: middle;\n",
       "    }\n",
       "\n",
       "    .dataframe tbody tr th {\n",
       "        vertical-align: top;\n",
       "    }\n",
       "\n",
       "    .dataframe thead th {\n",
       "        text-align: right;\n",
       "    }\n",
       "</style>\n",
       "<table border=\"1\" class=\"dataframe\">\n",
       "  <thead>\n",
       "    <tr style=\"text-align: right;\">\n",
       "      <th></th>\n",
       "      <th>mvar1</th>\n",
       "      <th>mvar2</th>\n",
       "      <th>mvar3</th>\n",
       "      <th>mvar4</th>\n",
       "      <th>mvar5</th>\n",
       "      <th>mvar6</th>\n",
       "      <th>mvar7</th>\n",
       "      <th>mvar8</th>\n",
       "      <th>mvar9</th>\n",
       "      <th>mvar10</th>\n",
       "      <th>...</th>\n",
       "      <th>mvar40</th>\n",
       "      <th>mvar41</th>\n",
       "      <th>mvar42</th>\n",
       "      <th>mvar43</th>\n",
       "      <th>mvar44</th>\n",
       "      <th>mvar45</th>\n",
       "      <th>mvar46</th>\n",
       "      <th>mvar47</th>\n",
       "      <th>mvar48</th>\n",
       "      <th>default_ind</th>\n",
       "    </tr>\n",
       "  </thead>\n",
       "  <tbody>\n",
       "    <tr>\n",
       "      <td>0</td>\n",
       "      <td>1696.0</td>\n",
       "      <td>1.6541</td>\n",
       "      <td>0.000</td>\n",
       "      <td>0.0</td>\n",
       "      <td>0.0</td>\n",
       "      <td>0.0</td>\n",
       "      <td>6015.0</td>\n",
       "      <td>322.0</td>\n",
       "      <td>40369.0</td>\n",
       "      <td>18414.0</td>\n",
       "      <td>...</td>\n",
       "      <td>73.780</td>\n",
       "      <td>82.547</td>\n",
       "      <td>0.08696</td>\n",
       "      <td>10.0</td>\n",
       "      <td>0.63899</td>\n",
       "      <td>NaN</td>\n",
       "      <td>0.0</td>\n",
       "      <td>C</td>\n",
       "      <td>10</td>\n",
       "      <td>0</td>\n",
       "    </tr>\n",
       "    <tr>\n",
       "      <td>1</td>\n",
       "      <td>1846.0</td>\n",
       "      <td>0.8095</td>\n",
       "      <td>0.000</td>\n",
       "      <td>0.0</td>\n",
       "      <td>0.0</td>\n",
       "      <td>102.0</td>\n",
       "      <td>7532.0</td>\n",
       "      <td>3171.0</td>\n",
       "      <td>18234.0</td>\n",
       "      <td>13664.0</td>\n",
       "      <td>...</td>\n",
       "      <td>99.129</td>\n",
       "      <td>NaN</td>\n",
       "      <td>0.00000</td>\n",
       "      <td>13.0</td>\n",
       "      <td>0.63836</td>\n",
       "      <td>NaN</td>\n",
       "      <td>NaN</td>\n",
       "      <td>L</td>\n",
       "      <td>732</td>\n",
       "      <td>1</td>\n",
       "    </tr>\n",
       "    <tr>\n",
       "      <td>2</td>\n",
       "      <td>1745.0</td>\n",
       "      <td>0.4001</td>\n",
       "      <td>0.000</td>\n",
       "      <td>0.0</td>\n",
       "      <td>0.0</td>\n",
       "      <td>NaN</td>\n",
       "      <td>2536.0</td>\n",
       "      <td>NaN</td>\n",
       "      <td>NaN</td>\n",
       "      <td>2536.0</td>\n",
       "      <td>...</td>\n",
       "      <td>NaN</td>\n",
       "      <td>29.290</td>\n",
       "      <td>0.00000</td>\n",
       "      <td>1.0</td>\n",
       "      <td>1.00000</td>\n",
       "      <td>NaN</td>\n",
       "      <td>0.0</td>\n",
       "      <td>C</td>\n",
       "      <td>89</td>\n",
       "      <td>1</td>\n",
       "    </tr>\n",
       "    <tr>\n",
       "      <td>3</td>\n",
       "      <td>1739.0</td>\n",
       "      <td>0.2193</td>\n",
       "      <td>0.000</td>\n",
       "      <td>0.0</td>\n",
       "      <td>0.0</td>\n",
       "      <td>1982.0</td>\n",
       "      <td>26440.0</td>\n",
       "      <td>4955.0</td>\n",
       "      <td>20316.0</td>\n",
       "      <td>37013.0</td>\n",
       "      <td>...</td>\n",
       "      <td>96.272</td>\n",
       "      <td>NaN</td>\n",
       "      <td>0.15385</td>\n",
       "      <td>3.0</td>\n",
       "      <td>0.53241</td>\n",
       "      <td>0.0</td>\n",
       "      <td>0.0</td>\n",
       "      <td>L</td>\n",
       "      <td>3</td>\n",
       "      <td>0</td>\n",
       "    </tr>\n",
       "    <tr>\n",
       "      <td>4</td>\n",
       "      <td>1787.0</td>\n",
       "      <td>0.0118</td>\n",
       "      <td>0.225</td>\n",
       "      <td>0.0</td>\n",
       "      <td>0.0</td>\n",
       "      <td>5451.0</td>\n",
       "      <td>5494.0</td>\n",
       "      <td>5494.0</td>\n",
       "      <td>7987.0</td>\n",
       "      <td>4696.0</td>\n",
       "      <td>...</td>\n",
       "      <td>115.019</td>\n",
       "      <td>NaN</td>\n",
       "      <td>0.00000</td>\n",
       "      <td>1.0</td>\n",
       "      <td>0.92665</td>\n",
       "      <td>NaN</td>\n",
       "      <td>NaN</td>\n",
       "      <td>L</td>\n",
       "      <td>5</td>\n",
       "      <td>0</td>\n",
       "    </tr>\n",
       "  </tbody>\n",
       "</table>\n",
       "<p>5 rows × 49 columns</p>\n",
       "</div>"
      ],
      "text/plain": [
       "    mvar1   mvar2  mvar3  mvar4  mvar5   mvar6    mvar7   mvar8    mvar9  \\\n",
       "0  1696.0  1.6541  0.000    0.0    0.0     0.0   6015.0   322.0  40369.0   \n",
       "1  1846.0  0.8095  0.000    0.0    0.0   102.0   7532.0  3171.0  18234.0   \n",
       "2  1745.0  0.4001  0.000    0.0    0.0     NaN   2536.0     NaN      NaN   \n",
       "3  1739.0  0.2193  0.000    0.0    0.0  1982.0  26440.0  4955.0  20316.0   \n",
       "4  1787.0  0.0118  0.225    0.0    0.0  5451.0   5494.0  5494.0   7987.0   \n",
       "\n",
       "    mvar10  ...   mvar40  mvar41   mvar42  mvar43   mvar44  mvar45  mvar46  \\\n",
       "0  18414.0  ...   73.780  82.547  0.08696    10.0  0.63899     NaN     0.0   \n",
       "1  13664.0  ...   99.129     NaN  0.00000    13.0  0.63836     NaN     NaN   \n",
       "2   2536.0  ...      NaN  29.290  0.00000     1.0  1.00000     NaN     0.0   \n",
       "3  37013.0  ...   96.272     NaN  0.15385     3.0  0.53241     0.0     0.0   \n",
       "4   4696.0  ...  115.019     NaN  0.00000     1.0  0.92665     NaN     NaN   \n",
       "\n",
       "   mvar47  mvar48  default_ind  \n",
       "0       C      10            0  \n",
       "1       L     732            1  \n",
       "2       C      89            1  \n",
       "3       L       3            0  \n",
       "4       L       5            0  \n",
       "\n",
       "[5 rows x 49 columns]"
      ]
     },
     "execution_count": 34,
     "metadata": {},
     "output_type": "execute_result"
    }
   ],
   "source": [
    "data.head()"
   ]
  },
  {
   "cell_type": "code",
   "execution_count": 35,
   "metadata": {},
   "outputs": [],
   "source": [
    "#imputing N/A and na's with 0\n",
    "data[['mvar1','mvar2','mvar3','mvar4','mvar5','mvar16','mvar17','mvar18','mvar19','mvar20','mvar21','mvar22','mvar23','mvar24','mvar34','mvar35','mvar36','mvar37','mvar38','mvar39','mvar43','mvar44','mvar45','mvar46'\n",
    "]] = data[['mvar1','mvar2','mvar3','mvar4','mvar5','mvar16','mvar17','mvar18','mvar19','mvar20','mvar21','mvar22','mvar23','mvar24','mvar34','mvar35','mvar36','mvar37','mvar38','mvar39','mvar43','mvar44','mvar45','mvar46']].fillna(0)"
   ]
  },
  {
   "cell_type": "code",
   "execution_count": 36,
   "metadata": {},
   "outputs": [
    {
     "data": {
      "text/plain": [
       "0    59145\n",
       "1    23855\n",
       "Name: default_ind, dtype: int64"
      ]
     },
     "execution_count": 36,
     "metadata": {},
     "output_type": "execute_result"
    }
   ],
   "source": [
    "data['default_ind'].value_counts()\n",
    "#Class Imbalance"
   ]
  },
  {
   "cell_type": "code",
   "execution_count": 37,
   "metadata": {
    "scrolled": false
   },
   "outputs": [
    {
     "data": {
      "text/plain": [
       "mvar1              0\n",
       "mvar2              0\n",
       "mvar3              0\n",
       "mvar4              0\n",
       "mvar5              0\n",
       "mvar6          19701\n",
       "mvar7           7674\n",
       "mvar8          19709\n",
       "mvar9          11682\n",
       "mvar10           535\n",
       "mvar11         46717\n",
       "mvar12         14578\n",
       "mvar13          9689\n",
       "mvar14             0\n",
       "mvar15         33519\n",
       "mvar16             0\n",
       "mvar17             0\n",
       "mvar18             0\n",
       "mvar19             0\n",
       "mvar20             0\n",
       "mvar21             0\n",
       "mvar22             0\n",
       "mvar23             0\n",
       "mvar24             0\n",
       "mvar25          7862\n",
       "mvar26         10929\n",
       "mvar27         13650\n",
       "mvar28           535\n",
       "mvar29           535\n",
       "mvar30         37988\n",
       "mvar31         58539\n",
       "mvar32          7862\n",
       "mvar33          1869\n",
       "mvar34             0\n",
       "mvar35             0\n",
       "mvar36             0\n",
       "mvar37             0\n",
       "mvar38             0\n",
       "mvar39             0\n",
       "mvar40         65070\n",
       "mvar41         57264\n",
       "mvar42          2023\n",
       "mvar43             0\n",
       "mvar44             0\n",
       "mvar45             0\n",
       "mvar46             0\n",
       "mvar47             0\n",
       "mvar48             0\n",
       "default_ind        0\n",
       "dtype: int64"
      ]
     },
     "execution_count": 37,
     "metadata": {},
     "output_type": "execute_result"
    }
   ],
   "source": [
    "#Number of missing variables\n",
    "data.isna().sum()"
   ]
  },
  {
   "cell_type": "code",
   "execution_count": 38,
   "metadata": {
    "scrolled": true
   },
   "outputs": [
    {
     "data": {
      "text/plain": [
       "mvar1           0.000000\n",
       "mvar2           0.000000\n",
       "mvar3           0.000000\n",
       "mvar4           0.000000\n",
       "mvar5           0.000000\n",
       "mvar6          23.736145\n",
       "mvar7           9.245783\n",
       "mvar8          23.745783\n",
       "mvar9          14.074699\n",
       "mvar10          0.644578\n",
       "mvar11         56.285542\n",
       "mvar12         17.563855\n",
       "mvar13         11.673494\n",
       "mvar14          0.000000\n",
       "mvar15         40.384337\n",
       "mvar16          0.000000\n",
       "mvar17          0.000000\n",
       "mvar18          0.000000\n",
       "mvar19          0.000000\n",
       "mvar20          0.000000\n",
       "mvar21          0.000000\n",
       "mvar22          0.000000\n",
       "mvar23          0.000000\n",
       "mvar24          0.000000\n",
       "mvar25          9.472289\n",
       "mvar26         13.167470\n",
       "mvar27         16.445783\n",
       "mvar28          0.644578\n",
       "mvar29          0.644578\n",
       "mvar30         45.768675\n",
       "mvar31         70.528916\n",
       "mvar32          9.472289\n",
       "mvar33          2.251807\n",
       "mvar34          0.000000\n",
       "mvar35          0.000000\n",
       "mvar36          0.000000\n",
       "mvar37          0.000000\n",
       "mvar38          0.000000\n",
       "mvar39          0.000000\n",
       "mvar40         78.397590\n",
       "mvar41         68.992771\n",
       "mvar42          2.437349\n",
       "mvar43          0.000000\n",
       "mvar44          0.000000\n",
       "mvar45          0.000000\n",
       "mvar46          0.000000\n",
       "mvar47          0.000000\n",
       "mvar48          0.000000\n",
       "default_ind     0.000000\n",
       "dtype: float64"
      ]
     },
     "execution_count": 38,
     "metadata": {},
     "output_type": "execute_result"
    }
   ],
   "source": [
    "# % of missing values\n",
    "data.isna().sum()/data.shape[0]*100 "
   ]
  },
  {
   "cell_type": "code",
   "execution_count": 39,
   "metadata": {},
   "outputs": [
    {
     "data": {
      "text/plain": [
       "(83000, 49)"
      ]
     },
     "execution_count": 39,
     "metadata": {},
     "output_type": "execute_result"
    }
   ],
   "source": [
    "data.shape"
   ]
  },
  {
   "cell_type": "markdown",
   "metadata": {},
   "source": [
    "Treshold =60% : Drop features with more than 60% NaN`"
   ]
  },
  {
   "cell_type": "code",
   "execution_count": 40,
   "metadata": {},
   "outputs": [],
   "source": [
    "threshold = 0.5\n",
    "#Dropping columns with missing value rate higher than threshold\n",
    "data = data[data.columns[data.isnull().mean() < threshold]]\n",
    "\n",
    "#Dropping rows with missing value rate higher than threshold\n",
    "#data = data.loc[data.isnull().mean(axis=1) < threshold]\n"
   ]
  },
  {
   "cell_type": "code",
   "execution_count": 41,
   "metadata": {
    "scrolled": true
   },
   "outputs": [
    {
     "data": {
      "text/plain": [
       "(83000, 45)"
      ]
     },
     "execution_count": 41,
     "metadata": {},
     "output_type": "execute_result"
    }
   ],
   "source": [
    "data.shape"
   ]
  },
  {
   "cell_type": "code",
   "execution_count": 42,
   "metadata": {
    "scrolled": true
   },
   "outputs": [
    {
     "data": {
      "text/plain": [
       "<matplotlib.axes._subplots.AxesSubplot at 0x7f9444e37a50>"
      ]
     },
     "execution_count": 42,
     "metadata": {},
     "output_type": "execute_result"
    },
    {
     "data": {
      "image/png": "[encoded data removed]",
      "text/plain": [
       "<Figure size 432x288 with 1 Axes>"
      ]
     },
     "metadata": {
      "needs_background": "light"
     },
     "output_type": "display_data"
    }
   ],
   "source": [
    "sns.boxplot(data['mvar1'])"
   ]
  },
  {
   "cell_type": "code",
   "execution_count": 43,
   "metadata": {
    "scrolled": true
   },
   "outputs": [
    {
     "data": {
      "text/plain": [
       "<matplotlib.axes._subplots.AxesSubplot at 0x7f9444dc6d50>"
      ]
     },
     "execution_count": 43,
     "metadata": {},
     "output_type": "execute_result"
    },
    {
     "data": {
      "image/png": "[encoded data removed]",
      "text/plain": [
       "<Figure size 432x288 with 1 Axes>"
      ]
     },
     "metadata": {
      "needs_background": "light"
     },
     "output_type": "display_data"
    }
   ],
   "source": [
    "sns.boxplot(data['mvar4'])"
   ]
  },
  {
   "cell_type": "code",
   "execution_count": 44,
   "metadata": {
    "scrolled": true
   },
   "outputs": [
    {
     "data": {
      "text/html": [
       "<div>\n",
       "<style scoped>\n",
       "    .dataframe tbody tr th:only-of-type {\n",
       "        vertical-align: middle;\n",
       "    }\n",
       "\n",
       "    .dataframe tbody tr th {\n",
       "        vertical-align: top;\n",
       "    }\n",
       "\n",
       "    .dataframe thead th {\n",
       "        text-align: right;\n",
       "    }\n",
       "</style>\n",
       "<table border=\"1\" class=\"dataframe\">\n",
       "  <thead>\n",
       "    <tr style=\"text-align: right;\">\n",
       "      <th></th>\n",
       "      <th>mvar1</th>\n",
       "      <th>mvar2</th>\n",
       "      <th>mvar3</th>\n",
       "      <th>mvar4</th>\n",
       "      <th>mvar5</th>\n",
       "      <th>mvar6</th>\n",
       "      <th>mvar7</th>\n",
       "      <th>mvar8</th>\n",
       "      <th>mvar9</th>\n",
       "      <th>mvar10</th>\n",
       "      <th>...</th>\n",
       "      <th>mvar38</th>\n",
       "      <th>mvar39</th>\n",
       "      <th>mvar42</th>\n",
       "      <th>mvar43</th>\n",
       "      <th>mvar44</th>\n",
       "      <th>mvar45</th>\n",
       "      <th>mvar46</th>\n",
       "      <th>mvar47</th>\n",
       "      <th>mvar48</th>\n",
       "      <th>default_ind</th>\n",
       "    </tr>\n",
       "  </thead>\n",
       "  <tbody>\n",
       "    <tr>\n",
       "      <td>0</td>\n",
       "      <td>1696.0</td>\n",
       "      <td>1.6541</td>\n",
       "      <td>0.000</td>\n",
       "      <td>0.0</td>\n",
       "      <td>0.0</td>\n",
       "      <td>0.0</td>\n",
       "      <td>6015.0</td>\n",
       "      <td>322.0</td>\n",
       "      <td>40369.0</td>\n",
       "      <td>18414.0</td>\n",
       "      <td>...</td>\n",
       "      <td>4.0</td>\n",
       "      <td>1.0</td>\n",
       "      <td>0.08696</td>\n",
       "      <td>10.0</td>\n",
       "      <td>0.63899</td>\n",
       "      <td>0.0</td>\n",
       "      <td>0.0</td>\n",
       "      <td>C</td>\n",
       "      <td>10</td>\n",
       "      <td>0</td>\n",
       "    </tr>\n",
       "    <tr>\n",
       "      <td>1</td>\n",
       "      <td>1846.0</td>\n",
       "      <td>0.8095</td>\n",
       "      <td>0.000</td>\n",
       "      <td>0.0</td>\n",
       "      <td>0.0</td>\n",
       "      <td>102.0</td>\n",
       "      <td>7532.0</td>\n",
       "      <td>3171.0</td>\n",
       "      <td>18234.0</td>\n",
       "      <td>13664.0</td>\n",
       "      <td>...</td>\n",
       "      <td>2.0</td>\n",
       "      <td>0.0</td>\n",
       "      <td>0.00000</td>\n",
       "      <td>13.0</td>\n",
       "      <td>0.63836</td>\n",
       "      <td>0.0</td>\n",
       "      <td>0.0</td>\n",
       "      <td>L</td>\n",
       "      <td>732</td>\n",
       "      <td>1</td>\n",
       "    </tr>\n",
       "    <tr>\n",
       "      <td>2</td>\n",
       "      <td>1745.0</td>\n",
       "      <td>0.4001</td>\n",
       "      <td>0.000</td>\n",
       "      <td>0.0</td>\n",
       "      <td>0.0</td>\n",
       "      <td>297.0</td>\n",
       "      <td>2536.0</td>\n",
       "      <td>2507.0</td>\n",
       "      <td>14389.0</td>\n",
       "      <td>2536.0</td>\n",
       "      <td>...</td>\n",
       "      <td>1.0</td>\n",
       "      <td>0.0</td>\n",
       "      <td>0.00000</td>\n",
       "      <td>1.0</td>\n",
       "      <td>1.00000</td>\n",
       "      <td>0.0</td>\n",
       "      <td>0.0</td>\n",
       "      <td>C</td>\n",
       "      <td>89</td>\n",
       "      <td>1</td>\n",
       "    </tr>\n",
       "    <tr>\n",
       "      <td>3</td>\n",
       "      <td>1739.0</td>\n",
       "      <td>0.2193</td>\n",
       "      <td>0.000</td>\n",
       "      <td>0.0</td>\n",
       "      <td>0.0</td>\n",
       "      <td>1982.0</td>\n",
       "      <td>26440.0</td>\n",
       "      <td>4955.0</td>\n",
       "      <td>20316.0</td>\n",
       "      <td>37013.0</td>\n",
       "      <td>...</td>\n",
       "      <td>2.0</td>\n",
       "      <td>0.0</td>\n",
       "      <td>0.15385</td>\n",
       "      <td>3.0</td>\n",
       "      <td>0.53241</td>\n",
       "      <td>0.0</td>\n",
       "      <td>0.0</td>\n",
       "      <td>L</td>\n",
       "      <td>3</td>\n",
       "      <td>0</td>\n",
       "    </tr>\n",
       "    <tr>\n",
       "      <td>4</td>\n",
       "      <td>1787.0</td>\n",
       "      <td>0.0118</td>\n",
       "      <td>0.225</td>\n",
       "      <td>0.0</td>\n",
       "      <td>0.0</td>\n",
       "      <td>5451.0</td>\n",
       "      <td>5494.0</td>\n",
       "      <td>5494.0</td>\n",
       "      <td>7987.0</td>\n",
       "      <td>4696.0</td>\n",
       "      <td>...</td>\n",
       "      <td>2.0</td>\n",
       "      <td>0.0</td>\n",
       "      <td>0.00000</td>\n",
       "      <td>1.0</td>\n",
       "      <td>0.92665</td>\n",
       "      <td>0.0</td>\n",
       "      <td>0.0</td>\n",
       "      <td>L</td>\n",
       "      <td>5</td>\n",
       "      <td>0</td>\n",
       "    </tr>\n",
       "  </tbody>\n",
       "</table>\n",
       "<p>5 rows × 45 columns</p>\n",
       "</div>"
      ],
      "text/plain": [
       "    mvar1   mvar2  mvar3  mvar4  mvar5   mvar6    mvar7   mvar8    mvar9  \\\n",
       "0  1696.0  1.6541  0.000    0.0    0.0     0.0   6015.0   322.0  40369.0   \n",
       "1  1846.0  0.8095  0.000    0.0    0.0   102.0   7532.0  3171.0  18234.0   \n",
       "2  1745.0  0.4001  0.000    0.0    0.0   297.0   2536.0  2507.0  14389.0   \n",
       "3  1739.0  0.2193  0.000    0.0    0.0  1982.0  26440.0  4955.0  20316.0   \n",
       "4  1787.0  0.0118  0.225    0.0    0.0  5451.0   5494.0  5494.0   7987.0   \n",
       "\n",
       "    mvar10  ...  mvar38  mvar39   mvar42  mvar43   mvar44  mvar45  mvar46  \\\n",
       "0  18414.0  ...     4.0     1.0  0.08696    10.0  0.63899     0.0     0.0   \n",
       "1  13664.0  ...     2.0     0.0  0.00000    13.0  0.63836     0.0     0.0   \n",
       "2   2536.0  ...     1.0     0.0  0.00000     1.0  1.00000     0.0     0.0   \n",
       "3  37013.0  ...     2.0     0.0  0.15385     3.0  0.53241     0.0     0.0   \n",
       "4   4696.0  ...     2.0     0.0  0.00000     1.0  0.92665     0.0     0.0   \n",
       "\n",
       "   mvar47  mvar48  default_ind  \n",
       "0       C      10            0  \n",
       "1       L     732            1  \n",
       "2       C      89            1  \n",
       "3       L       3            0  \n",
       "4       L       5            0  \n",
       "\n",
       "[5 rows x 45 columns]"
      ]
     },
     "execution_count": 44,
     "metadata": {},
     "output_type": "execute_result"
    }
   ],
   "source": [
    "#imputing the data with median since most of the data is skewed \n",
    "data= data.fillna(data.median())\n",
    "data.head()"
   ]
  },
  {
   "cell_type": "code",
   "execution_count": 45,
   "metadata": {
    "scrolled": true
   },
   "outputs": [],
   "source": [
    "#Encoding mvar47\n",
    "encoded_columns = pd.get_dummies(data['mvar47'])\n",
    "data = data.join(encoded_columns).drop('mvar47', axis=1)"
   ]
  },
  {
   "cell_type": "code",
   "execution_count": 46,
   "metadata": {},
   "outputs": [],
   "source": [
    "#rearranging the rows\n",
    "data = data[['mvar1','mvar2','mvar3','mvar4','mvar5','mvar6','mvar7','mvar8','mvar9','mvar10','mvar12','mvar13','mvar14','mvar15','mvar16','mvar17','mvar18','mvar19','mvar20','mvar21','mvar22','mvar23','mvar24','mvar25','mvar26','mvar27','mvar28','mvar29','mvar30','mvar32','mvar33','mvar34','mvar35','mvar36','mvar37','mvar38','mvar39','mvar42','mvar43','mvar44','mvar45','mvar46','mvar48','C','L','default_ind']]"
   ]
  },
  {
   "cell_type": "code",
   "execution_count": 47,
   "metadata": {},
   "outputs": [
    {
     "data": {
      "text/plain": [
       "<Figure size 1080x1080 with 0 Axes>"
      ]
     },
     "metadata": {},
     "output_type": "display_data"
    },
    {
     "data": {
      "image/png": "[encoded data removed]",
      "text/plain": [
       "<Figure size 288x288 with 1 Axes>"
      ]
     },
     "metadata": {
      "needs_background": "light"
     },
     "output_type": "display_data"
    }
   ],
   "source": [
    "plt.figure(figsize=(15, 15))\n",
    "plt.matshow(data.corr())\n",
    "plt.show()"
   ]
  },
  {
   "cell_type": "code",
   "execution_count": 48,
   "metadata": {},
   "outputs": [
    {
     "name": "stdout",
     "output_type": "stream",
     "text": [
      "[[0.07244779 0.44211348 0.48507727 ... 0.7712555  0.7712555  0.6350833 ]\n",
      " [0.47368633 0.11183402 0.48507727 ... 1.29658719 1.29658719 1.57459659]\n",
      " [0.20351905 0.38034705 0.48507727 ... 0.7712555  0.7712555  1.57459659]\n",
      " ...\n",
      " [0.63685667 0.61777187 0.48507727 ... 1.29658719 1.29658719 0.6350833 ]\n",
      " [0.20084412 0.55754654 0.48507727 ... 1.29658719 1.29658719 0.6350833 ]\n",
      " [0.4362374  0.37783826 0.48507727 ... 1.29658719 1.29658719 0.6350833 ]]\n"
     ]
    }
   ],
   "source": [
    "#handling outliers using Z scores\n",
    "from scipy import stats\n",
    "import numpy as np\n",
    "z = np.abs(stats.zscore(data))\n",
    "print(z)"
   ]
  },
  {
   "cell_type": "code",
   "execution_count": 49,
   "metadata": {},
   "outputs": [
    {
     "data": {
      "text/plain": [
       "(83000, 46)"
      ]
     },
     "execution_count": 49,
     "metadata": {},
     "output_type": "execute_result"
    }
   ],
   "source": [
    "data.shape"
   ]
  },
  {
   "cell_type": "code",
   "execution_count": 50,
   "metadata": {},
   "outputs": [],
   "source": [
    "data = data[(z < 4).all(axis=1)]"
   ]
  },
  {
   "cell_type": "code",
   "execution_count": 51,
   "metadata": {},
   "outputs": [
    {
     "data": {
      "text/plain": [
       "(62499, 46)"
      ]
     },
     "execution_count": 51,
     "metadata": {},
     "output_type": "execute_result"
    }
   ],
   "source": [
    "data.shape"
   ]
  },
  {
   "cell_type": "code",
   "execution_count": 52,
   "metadata": {},
   "outputs": [
    {
     "name": "stdout",
     "output_type": "stream",
     "text": [
      "<class 'pandas.core.frame.DataFrame'>\n",
      "Int64Index: 62499 entries, 0 to 82999\n",
      "Data columns (total 46 columns):\n",
      "mvar1          62499 non-null float64\n",
      "mvar2          62499 non-null float64\n",
      "mvar3          62499 non-null float64\n",
      "mvar4          62499 non-null float64\n",
      "mvar5          62499 non-null float64\n",
      "mvar6          62499 non-null float64\n",
      "mvar7          62499 non-null float64\n",
      "mvar8          62499 non-null float64\n",
      "mvar9          62499 non-null float64\n",
      "mvar10         62499 non-null float64\n",
      "mvar12         62499 non-null float64\n",
      "mvar13         62499 non-null float64\n",
      "mvar14         62499 non-null int64\n",
      "mvar15         62499 non-null float64\n",
      "mvar16         62499 non-null float64\n",
      "mvar17         62499 non-null float64\n",
      "mvar18         62499 non-null float64\n",
      "mvar19         62499 non-null float64\n",
      "mvar20         62499 non-null float64\n",
      "mvar21         62499 non-null float64\n",
      "mvar22         62499 non-null float64\n",
      "mvar23         62499 non-null float64\n",
      "mvar24         62499 non-null float64\n",
      "mvar25         62499 non-null float64\n",
      "mvar26         62499 non-null float64\n",
      "mvar27         62499 non-null float64\n",
      "mvar28         62499 non-null float64\n",
      "mvar29         62499 non-null float64\n",
      "mvar30         62499 non-null float64\n",
      "mvar32         62499 non-null float64\n",
      "mvar33         62499 non-null float64\n",
      "mvar34         62499 non-null float64\n",
      "mvar35         62499 non-null float64\n",
      "mvar36         62499 non-null float64\n",
      "mvar37         62499 non-null float64\n",
      "mvar38         62499 non-null float64\n",
      "mvar39         62499 non-null float64\n",
      "mvar42         62499 non-null float64\n",
      "mvar43         62499 non-null float64\n",
      "mvar44         62499 non-null float64\n",
      "mvar45         62499 non-null float64\n",
      "mvar46         62499 non-null float64\n",
      "mvar48         62499 non-null int64\n",
      "C              62499 non-null uint8\n",
      "L              62499 non-null uint8\n",
      "default_ind    62499 non-null int64\n",
      "dtypes: float64(41), int64(3), uint8(2)\n",
      "memory usage: 21.6 MB\n"
     ]
    }
   ],
   "source": [
    "data.info()"
   ]
  },
  {
   "cell_type": "code",
   "execution_count": 53,
   "metadata": {
    "scrolled": false
   },
   "outputs": [
    {
     "data": {
      "text/html": [
       "<div>\n",
       "<style scoped>\n",
       "    .dataframe tbody tr th:only-of-type {\n",
       "        vertical-align: middle;\n",
       "    }\n",
       "\n",
       "    .dataframe tbody tr th {\n",
       "        vertical-align: top;\n",
       "    }\n",
       "\n",
       "    .dataframe thead th {\n",
       "        text-align: right;\n",
       "    }\n",
       "</style>\n",
       "<table border=\"1\" class=\"dataframe\">\n",
       "  <thead>\n",
       "    <tr style=\"text-align: right;\">\n",
       "      <th></th>\n",
       "      <th>mvar1</th>\n",
       "      <th>mvar2</th>\n",
       "      <th>mvar3</th>\n",
       "      <th>mvar4</th>\n",
       "      <th>mvar5</th>\n",
       "      <th>mvar6</th>\n",
       "      <th>mvar7</th>\n",
       "      <th>mvar8</th>\n",
       "      <th>mvar9</th>\n",
       "      <th>mvar10</th>\n",
       "      <th>...</th>\n",
       "      <th>mvar39</th>\n",
       "      <th>mvar42</th>\n",
       "      <th>mvar43</th>\n",
       "      <th>mvar44</th>\n",
       "      <th>mvar45</th>\n",
       "      <th>mvar46</th>\n",
       "      <th>mvar48</th>\n",
       "      <th>C</th>\n",
       "      <th>L</th>\n",
       "      <th>default_ind</th>\n",
       "    </tr>\n",
       "  </thead>\n",
       "  <tbody>\n",
       "    <tr>\n",
       "      <td>0</td>\n",
       "      <td>1696.0</td>\n",
       "      <td>1.6541</td>\n",
       "      <td>0.000</td>\n",
       "      <td>0.0</td>\n",
       "      <td>0.0</td>\n",
       "      <td>0.0</td>\n",
       "      <td>6015.0</td>\n",
       "      <td>322.0</td>\n",
       "      <td>40369.0</td>\n",
       "      <td>18414.0</td>\n",
       "      <td>...</td>\n",
       "      <td>1.0</td>\n",
       "      <td>0.08696</td>\n",
       "      <td>10.0</td>\n",
       "      <td>0.63899</td>\n",
       "      <td>0.0</td>\n",
       "      <td>0.0</td>\n",
       "      <td>10</td>\n",
       "      <td>1</td>\n",
       "      <td>0</td>\n",
       "      <td>0</td>\n",
       "    </tr>\n",
       "    <tr>\n",
       "      <td>1</td>\n",
       "      <td>1846.0</td>\n",
       "      <td>0.8095</td>\n",
       "      <td>0.000</td>\n",
       "      <td>0.0</td>\n",
       "      <td>0.0</td>\n",
       "      <td>102.0</td>\n",
       "      <td>7532.0</td>\n",
       "      <td>3171.0</td>\n",
       "      <td>18234.0</td>\n",
       "      <td>13664.0</td>\n",
       "      <td>...</td>\n",
       "      <td>0.0</td>\n",
       "      <td>0.00000</td>\n",
       "      <td>13.0</td>\n",
       "      <td>0.63836</td>\n",
       "      <td>0.0</td>\n",
       "      <td>0.0</td>\n",
       "      <td>732</td>\n",
       "      <td>0</td>\n",
       "      <td>1</td>\n",
       "      <td>1</td>\n",
       "    </tr>\n",
       "    <tr>\n",
       "      <td>2</td>\n",
       "      <td>1745.0</td>\n",
       "      <td>0.4001</td>\n",
       "      <td>0.000</td>\n",
       "      <td>0.0</td>\n",
       "      <td>0.0</td>\n",
       "      <td>297.0</td>\n",
       "      <td>2536.0</td>\n",
       "      <td>2507.0</td>\n",
       "      <td>14389.0</td>\n",
       "      <td>2536.0</td>\n",
       "      <td>...</td>\n",
       "      <td>0.0</td>\n",
       "      <td>0.00000</td>\n",
       "      <td>1.0</td>\n",
       "      <td>1.00000</td>\n",
       "      <td>0.0</td>\n",
       "      <td>0.0</td>\n",
       "      <td>89</td>\n",
       "      <td>1</td>\n",
       "      <td>0</td>\n",
       "      <td>1</td>\n",
       "    </tr>\n",
       "    <tr>\n",
       "      <td>3</td>\n",
       "      <td>1739.0</td>\n",
       "      <td>0.2193</td>\n",
       "      <td>0.000</td>\n",
       "      <td>0.0</td>\n",
       "      <td>0.0</td>\n",
       "      <td>1982.0</td>\n",
       "      <td>26440.0</td>\n",
       "      <td>4955.0</td>\n",
       "      <td>20316.0</td>\n",
       "      <td>37013.0</td>\n",
       "      <td>...</td>\n",
       "      <td>0.0</td>\n",
       "      <td>0.15385</td>\n",
       "      <td>3.0</td>\n",
       "      <td>0.53241</td>\n",
       "      <td>0.0</td>\n",
       "      <td>0.0</td>\n",
       "      <td>3</td>\n",
       "      <td>0</td>\n",
       "      <td>1</td>\n",
       "      <td>0</td>\n",
       "    </tr>\n",
       "    <tr>\n",
       "      <td>4</td>\n",
       "      <td>1787.0</td>\n",
       "      <td>0.0118</td>\n",
       "      <td>0.225</td>\n",
       "      <td>0.0</td>\n",
       "      <td>0.0</td>\n",
       "      <td>5451.0</td>\n",
       "      <td>5494.0</td>\n",
       "      <td>5494.0</td>\n",
       "      <td>7987.0</td>\n",
       "      <td>4696.0</td>\n",
       "      <td>...</td>\n",
       "      <td>0.0</td>\n",
       "      <td>0.00000</td>\n",
       "      <td>1.0</td>\n",
       "      <td>0.92665</td>\n",
       "      <td>0.0</td>\n",
       "      <td>0.0</td>\n",
       "      <td>5</td>\n",
       "      <td>0</td>\n",
       "      <td>1</td>\n",
       "      <td>0</td>\n",
       "    </tr>\n",
       "  </tbody>\n",
       "</table>\n",
       "<p>5 rows × 46 columns</p>\n",
       "</div>"
      ],
      "text/plain": [
       "    mvar1   mvar2  mvar3  mvar4  mvar5   mvar6    mvar7   mvar8    mvar9  \\\n",
       "0  1696.0  1.6541  0.000    0.0    0.0     0.0   6015.0   322.0  40369.0   \n",
       "1  1846.0  0.8095  0.000    0.0    0.0   102.0   7532.0  3171.0  18234.0   \n",
       "2  1745.0  0.4001  0.000    0.0    0.0   297.0   2536.0  2507.0  14389.0   \n",
       "3  1739.0  0.2193  0.000    0.0    0.0  1982.0  26440.0  4955.0  20316.0   \n",
       "4  1787.0  0.0118  0.225    0.0    0.0  5451.0   5494.0  5494.0   7987.0   \n",
       "\n",
       "    mvar10  ...  mvar39   mvar42  mvar43   mvar44  mvar45  mvar46  mvar48  C  \\\n",
       "0  18414.0  ...     1.0  0.08696    10.0  0.63899     0.0     0.0      10  1   \n",
       "1  13664.0  ...     0.0  0.00000    13.0  0.63836     0.0     0.0     732  0   \n",
       "2   2536.0  ...     0.0  0.00000     1.0  1.00000     0.0     0.0      89  1   \n",
       "3  37013.0  ...     0.0  0.15385     3.0  0.53241     0.0     0.0       3  0   \n",
       "4   4696.0  ...     0.0  0.00000     1.0  0.92665     0.0     0.0       5  0   \n",
       "\n",
       "   L  default_ind  \n",
       "0  0            0  \n",
       "1  1            1  \n",
       "2  0            1  \n",
       "3  1            0  \n",
       "4  1            0  \n",
       "\n",
       "[5 rows x 46 columns]"
      ]
     },
     "execution_count": 53,
     "metadata": {},
     "output_type": "execute_result"
    }
   ],
   "source": [
    "data.head()"
   ]
  },
  {
   "cell_type": "code",
   "execution_count": 55,
   "metadata": {
    "scrolled": true
   },
   "outputs": [
    {
     "data": {
      "text/plain": [
       "array([0, 1, 1, ..., 0, 0, 0])"
      ]
     },
     "execution_count": 55,
     "metadata": {},
     "output_type": "execute_result"
    }
   ],
   "source": [
    "X = data.iloc[:, :-1].values # Features\n",
    "y = data.iloc[:, 45].values #target variable\n",
    "y"
   ]
  },
  {
   "cell_type": "code",
   "execution_count": 56,
   "metadata": {
    "scrolled": false
   },
   "outputs": [],
   "source": [
    "from sklearn.model_selection import train_test_split\n",
    "X_train, X_test, y_train, y_test = train_test_split(X, y, test_size = 0.2, random_state = 0)"
   ]
  },
  {
   "cell_type": "code",
   "execution_count": 57,
   "metadata": {},
   "outputs": [],
   "source": [
    "# Importing MinMaxScaler and initializing it\n",
    "from sklearn.preprocessing import MinMaxScaler\n",
    "min_max=MinMaxScaler()\n",
    "X_train=min_max.fit_transform(X_train)\n",
    "X_test=min_max.fit_transform(X_test)"
   ]
  },
  {
   "cell_type": "code",
   "execution_count": 58,
   "metadata": {},
   "outputs": [
    {
     "data": {
      "text/plain": [
       "KNeighborsClassifier(algorithm='auto', leaf_size=30, metric='minkowski',\n",
       "                     metric_params=None, n_jobs=None, n_neighbors=5, p=2,\n",
       "                     weights='uniform')"
      ]
     },
     "execution_count": 58,
     "metadata": {},
     "output_type": "execute_result"
    }
   ],
   "source": [
    "from sklearn.neighbors import KNeighborsClassifier\n",
    "knn=KNeighborsClassifier(n_neighbors=5)\n",
    "knn.fit(X_train,y_train)\n"
   ]
  },
  {
   "cell_type": "code",
   "execution_count": 60,
   "metadata": {},
   "outputs": [],
   "source": [
    "y_knn = knn.predict(X_test)"
   ]
  },
  {
   "cell_type": "code",
   "execution_count": 61,
   "metadata": {},
   "outputs": [
    {
     "name": "stdout",
     "output_type": "stream",
     "text": [
      "Accuracy: 0.7512\n"
     ]
    }
   ],
   "source": [
    "from sklearn import metrics\n",
    "print(\"Accuracy:\",metrics.accuracy_score(y_test, y_knn))"
   ]
  },
  {
   "cell_type": "code",
   "execution_count": 62,
   "metadata": {},
   "outputs": [
    {
     "data": {
      "text/plain": [
       "XGBClassifier(base_score=0.5, booster='gbtree', colsample_bylevel=1,\n",
       "              colsample_bynode=1, colsample_bytree=1, gamma=0,\n",
       "              learning_rate=0.1, max_delta_step=0, max_depth=3,\n",
       "              min_child_weight=1, missing=None, n_estimators=100, n_jobs=1,\n",
       "              nthread=None, objective='binary:logistic', random_state=0,\n",
       "              reg_alpha=0, reg_lambda=1, scale_pos_weight=1, seed=None,\n",
       "              silent=None, subsample=1, verbosity=1)"
      ]
     },
     "execution_count": 62,
     "metadata": {},
     "output_type": "execute_result"
    }
   ],
   "source": [
    "from xgboost import XGBClassifier\n",
    "# fit model no training data\n",
    "xgb = XGBClassifier()\n",
    "xgb.fit(X_train, y_train)"
   ]
  },
  {
   "cell_type": "code",
   "execution_count": 64,
   "metadata": {},
   "outputs": [],
   "source": [
    "y_xgb = xgb.predict(X_test)\n",
    "predictions = [round(value) for value in y_xgb]\n"
   ]
  },
  {
   "cell_type": "code",
   "execution_count": 65,
   "metadata": {},
   "outputs": [
    {
     "name": "stdout",
     "output_type": "stream",
     "text": [
      "Accuracy: 78.62%\n"
     ]
    }
   ],
   "source": [
    "from sklearn import metrics\n",
    "accuracy = metrics.accuracy_score(y_test, predictions)\n",
    "print(\"Accuracy: %.2f%%\" % (accuracy * 100.0))"
   ]
  },
  {
   "cell_type": "code",
   "execution_count": 66,
   "metadata": {},
   "outputs": [
    {
     "data": {
      "text/plain": [
       "SVC(C=1.0, cache_size=200, class_weight=None, coef0=0.0,\n",
       "    decision_function_shape='ovr', degree=3, gamma='auto_deprecated',\n",
       "    kernel='linear', max_iter=-1, probability=False, random_state=None,\n",
       "    shrinking=True, tol=0.001, verbose=False)"
      ]
     },
     "execution_count": 66,
     "metadata": {},
     "output_type": "execute_result"
    }
   ],
   "source": [
    "#SVM \n",
    "from sklearn import svm\n",
    "clf = svm.SVC(kernel='linear')\n",
    "clf.fit(X_train, y_train)"
   ]
  },
  {
   "cell_type": "code",
   "execution_count": 67,
   "metadata": {},
   "outputs": [],
   "source": [
    "y_svm = clf.predict(X_test)"
   ]
  },
  {
   "cell_type": "code",
   "execution_count": 69,
   "metadata": {},
   "outputs": [
    {
     "name": "stdout",
     "output_type": "stream",
     "text": [
      "Accuracy: 0.7484\n"
     ]
    }
   ],
   "source": [
    "print(\"Accuracy:\",metrics.accuracy_score(y_test, y_svm))"
   ]
  },
  {
   "cell_type": "code",
   "execution_count": 70,
   "metadata": {},
   "outputs": [
    {
     "data": {
      "text/plain": [
       "RandomForestRegressor(bootstrap=True, criterion='mse', max_depth=None,\n",
       "                      max_features='auto', max_leaf_nodes=None,\n",
       "                      min_impurity_decrease=0.0, min_impurity_split=None,\n",
       "                      min_samples_leaf=1, min_samples_split=2,\n",
       "                      min_weight_fraction_leaf=0.0, n_estimators=1000,\n",
       "                      n_jobs=None, oob_score=False, random_state=42, verbose=0,\n",
       "                      warm_start=False)"
      ]
     },
     "execution_count": 70,
     "metadata": {},
     "output_type": "execute_result"
    }
   ],
   "source": [
    "from sklearn.ensemble import RandomForestRegressor\n",
    "rf = RandomForestRegressor(n_estimators = 1000, random_state = 42)\n",
    "rf.fit(X_train, y_train)"
   ]
  },
  {
   "cell_type": "code",
   "execution_count": 71,
   "metadata": {},
   "outputs": [],
   "source": [
    "y_rf= rf.predict(X_test)"
   ]
  },
  {
   "cell_type": "code",
   "execution_count": 79,
   "metadata": {},
   "outputs": [
    {
     "data": {
      "text/plain": [
       "0.78576"
      ]
     },
     "execution_count": 79,
     "metadata": {},
     "output_type": "execute_result"
    }
   ],
   "source": [
    "metrics.accuracy_score(y_test, y_rf.round(), normalize=True)"
   ]
  },
  {
   "cell_type": "code",
   "execution_count": 80,
   "metadata": {},
   "outputs": [],
   "source": [
    "#smote\n",
    "X_smote = data.loc[:, data.columns != 'default_ind']\n",
    "y_smote = data.loc[:, data.columns == 'default_ind']"
   ]
  },
  {
   "cell_type": "code",
   "execution_count": 83,
   "metadata": {},
   "outputs": [
    {
     "name": "stderr",
     "output_type": "stream",
     "text": [
      "Using TensorFlow backend.\n",
      "/home/rahul-mn/.local/lib/python3.7/site-packages/tensorflow/python/framework/dtypes.py:516: FutureWarning: Passing (type, 1) or '1type' as a synonym of type is deprecated; in a future version of numpy, it will be understood as (type, (1,)) / '(1,)type'.\n",
      "  _np_qint8 = np.dtype([(\"qint8\", np.int8, 1)])\n",
      "/home/rahul-mn/.local/lib/python3.7/site-packages/tensorflow/python/framework/dtypes.py:517: FutureWarning: Passing (type, 1) or '1type' as a synonym of type is deprecated; in a future version of numpy, it will be understood as (type, (1,)) / '(1,)type'.\n",
      "  _np_quint8 = np.dtype([(\"quint8\", np.uint8, 1)])\n",
      "/home/rahul-mn/.local/lib/python3.7/site-packages/tensorflow/python/framework/dtypes.py:518: FutureWarning: Passing (type, 1) or '1type' as a synonym of type is deprecated; in a future version of numpy, it will be understood as (type, (1,)) / '(1,)type'.\n",
      "  _np_qint16 = np.dtype([(\"qint16\", np.int16, 1)])\n",
      "/home/rahul-mn/.local/lib/python3.7/site-packages/tensorflow/python/framework/dtypes.py:519: FutureWarning: Passing (type, 1) or '1type' as a synonym of type is deprecated; in a future version of numpy, it will be understood as (type, (1,)) / '(1,)type'.\n",
      "  _np_quint16 = np.dtype([(\"quint16\", np.uint16, 1)])\n",
      "/home/rahul-mn/.local/lib/python3.7/site-packages/tensorflow/python/framework/dtypes.py:520: FutureWarning: Passing (type, 1) or '1type' as a synonym of type is deprecated; in a future version of numpy, it will be understood as (type, (1,)) / '(1,)type'.\n",
      "  _np_qint32 = np.dtype([(\"qint32\", np.int32, 1)])\n",
      "/home/rahul-mn/.local/lib/python3.7/site-packages/tensorflow/python/framework/dtypes.py:525: FutureWarning: Passing (type, 1) or '1type' as a synonym of type is deprecated; in a future version of numpy, it will be understood as (type, (1,)) / '(1,)type'.\n",
      "  np_resource = np.dtype([(\"resource\", np.ubyte, 1)])\n",
      "/home/rahul-mn/.local/lib/python3.7/site-packages/tensorboard/compat/tensorflow_stub/dtypes.py:541: FutureWarning: Passing (type, 1) or '1type' as a synonym of type is deprecated; in a future version of numpy, it will be understood as (type, (1,)) / '(1,)type'.\n",
      "  _np_qint8 = np.dtype([(\"qint8\", np.int8, 1)])\n",
      "/home/rahul-mn/.local/lib/python3.7/site-packages/tensorboard/compat/tensorflow_stub/dtypes.py:542: FutureWarning: Passing (type, 1) or '1type' as a synonym of type is deprecated; in a future version of numpy, it will be understood as (type, (1,)) / '(1,)type'.\n",
      "  _np_quint8 = np.dtype([(\"quint8\", np.uint8, 1)])\n",
      "/home/rahul-mn/.local/lib/python3.7/site-packages/tensorboard/compat/tensorflow_stub/dtypes.py:543: FutureWarning: Passing (type, 1) or '1type' as a synonym of type is deprecated; in a future version of numpy, it will be understood as (type, (1,)) / '(1,)type'.\n",
      "  _np_qint16 = np.dtype([(\"qint16\", np.int16, 1)])\n",
      "/home/rahul-mn/.local/lib/python3.7/site-packages/tensorboard/compat/tensorflow_stub/dtypes.py:544: FutureWarning: Passing (type, 1) or '1type' as a synonym of type is deprecated; in a future version of numpy, it will be understood as (type, (1,)) / '(1,)type'.\n",
      "  _np_quint16 = np.dtype([(\"quint16\", np.uint16, 1)])\n",
      "/home/rahul-mn/.local/lib/python3.7/site-packages/tensorboard/compat/tensorflow_stub/dtypes.py:545: FutureWarning: Passing (type, 1) or '1type' as a synonym of type is deprecated; in a future version of numpy, it will be understood as (type, (1,)) / '(1,)type'.\n",
      "  _np_qint32 = np.dtype([(\"qint32\", np.int32, 1)])\n",
      "/home/rahul-mn/.local/lib/python3.7/site-packages/tensorboard/compat/tensorflow_stub/dtypes.py:550: FutureWarning: Passing (type, 1) or '1type' as a synonym of type is deprecated; in a future version of numpy, it will be understood as (type, (1,)) / '(1,)type'.\n",
      "  np_resource = np.dtype([(\"resource\", np.ubyte, 1)])\n"
     ]
    }
   ],
   "source": [
    "from imblearn.over_sampling import SMOTE\n",
    "os = SMOTE(random_state=0)\n",
    "X_trainSmote, X_testSmote, y_trainSmote, y_testSmote = train_test_split(X_smote, y_smote, test_size=0.3, random_state=0)\n",
    "columns = X_trainSmote.columns"
   ]
  },
  {
   "cell_type": "code",
   "execution_count": 95,
   "metadata": {
    "scrolled": true
   },
   "outputs": [
    {
     "name": "stderr",
     "output_type": "stream",
     "text": [
      "/home/rahul-mn/.local/lib/python3.7/site-packages/sklearn/utils/validation.py:724: DataConversionWarning: A column-vector y was passed when a 1d array was expected. Please change the shape of y to (n_samples, ), for example using ravel().\n",
      "  y = column_or_1d(y, warn=True)\n"
     ]
    },
    {
     "name": "stdout",
     "output_type": "stream",
     "text": [
      "length of oversampled data is  64786\n",
      "Number of no subscription in oversampled data 32393\n",
      "Number of subscription 32393\n",
      "Proportion of no subscription data in oversampled data is  0.5\n",
      "Proportion of subscription data in oversampled data is  0.5\n"
     ]
    }
   ],
   "source": [
    "os_data_X,os_data_y=os.fit_sample(X_trainSmote, y_trainSmote)\n",
    "os_data_X = pd.DataFrame(data=os_data_X,columns=columns )\n",
    "os_data_y= pd.DataFrame(data=os_data_y,columns=['default_ind'])\n",
    "# we can Check the numbers of our data\n",
    "print(\"length of oversampled data is \",len(os_data_X))\n",
    "print(\"Number of no subscription in oversampled data\",len(os_data_y[os_data_y['default_ind']==0]))\n",
    "print(\"Number of subscription\",len(os_data_y[os_data_y['default_ind']==1]))\n",
    "print(\"Proportion of no subscription data in oversampled data is \",len(os_data_y[os_data_y['default_ind']==0])/len(os_data_X))\n",
    "print(\"Proportion of subscription data in oversampled data is \",len(os_data_y[os_data_y['default_ind']==1])/len(os_data_X))"
   ]
  },
  {
   "cell_type": "code",
   "execution_count": 86,
   "metadata": {},
   "outputs": [
    {
     "name": "stderr",
     "output_type": "stream",
     "text": [
      "/home/rahul-mn/.local/lib/python3.7/site-packages/sklearn/linear_model/logistic.py:432: FutureWarning: Default solver will be changed to 'lbfgs' in 0.22. Specify a solver to silence this warning.\n",
      "  FutureWarning)\n",
      "/home/rahul-mn/.local/lib/python3.7/site-packages/sklearn/utils/validation.py:724: DataConversionWarning: A column-vector y was passed when a 1d array was expected. Please change the shape of y to (n_samples, ), for example using ravel().\n",
      "  y = column_or_1d(y, warn=True)\n"
     ]
    },
    {
     "data": {
      "text/plain": [
       "LogisticRegression(C=1.0, class_weight=None, dual=False, fit_intercept=True,\n",
       "                   intercept_scaling=1, l1_ratio=None, max_iter=100,\n",
       "                   multi_class='warn', n_jobs=None, penalty='l2',\n",
       "                   random_state=None, solver='warn', tol=0.0001, verbose=0,\n",
       "                   warm_start=False)"
      ]
     },
     "execution_count": 86,
     "metadata": {},
     "output_type": "execute_result"
    }
   ],
   "source": [
    "from sklearn.linear_model import LogisticRegression\n",
    "logreg = LogisticRegression()\n",
    "logreg.fit(X_trainSmote, y_trainSmote)"
   ]
  },
  {
   "cell_type": "code",
   "execution_count": 97,
   "metadata": {},
   "outputs": [
    {
     "name": "stderr",
     "output_type": "stream",
     "text": [
      "/home/rahul-mn/.local/lib/python3.7/site-packages/sklearn/linear_model/logistic.py:432: FutureWarning: Default solver will be changed to 'lbfgs' in 0.22. Specify a solver to silence this warning.\n",
      "  FutureWarning)\n",
      "/home/rahul-mn/.local/lib/python3.7/site-packages/sklearn/linear_model/logistic.py:432: FutureWarning: Default solver will be changed to 'lbfgs' in 0.22. Specify a solver to silence this warning.\n",
      "  FutureWarning)\n",
      "/home/rahul-mn/.local/lib/python3.7/site-packages/sklearn/linear_model/logistic.py:432: FutureWarning: Default solver will be changed to 'lbfgs' in 0.22. Specify a solver to silence this warning.\n",
      "  FutureWarning)\n",
      "/home/rahul-mn/.local/lib/python3.7/site-packages/sklearn/linear_model/logistic.py:432: FutureWarning: Default solver will be changed to 'lbfgs' in 0.22. Specify a solver to silence this warning.\n",
      "  FutureWarning)\n",
      "/home/rahul-mn/.local/lib/python3.7/site-packages/sklearn/linear_model/logistic.py:432: FutureWarning: Default solver will be changed to 'lbfgs' in 0.22. Specify a solver to silence this warning.\n",
      "  FutureWarning)\n",
      "/home/rahul-mn/.local/lib/python3.7/site-packages/sklearn/linear_model/logistic.py:432: FutureWarning: Default solver will be changed to 'lbfgs' in 0.22. Specify a solver to silence this warning.\n",
      "  FutureWarning)\n",
      "/home/rahul-mn/.local/lib/python3.7/site-packages/sklearn/linear_model/logistic.py:432: FutureWarning: Default solver will be changed to 'lbfgs' in 0.22. Specify a solver to silence this warning.\n",
      "  FutureWarning)\n",
      "/home/rahul-mn/.local/lib/python3.7/site-packages/sklearn/linear_model/logistic.py:432: FutureWarning: Default solver will be changed to 'lbfgs' in 0.22. Specify a solver to silence this warning.\n",
      "  FutureWarning)\n",
      "/home/rahul-mn/.local/lib/python3.7/site-packages/sklearn/linear_model/logistic.py:432: FutureWarning: Default solver will be changed to 'lbfgs' in 0.22. Specify a solver to silence this warning.\n",
      "  FutureWarning)\n",
      "/home/rahul-mn/.local/lib/python3.7/site-packages/sklearn/linear_model/logistic.py:432: FutureWarning: Default solver will be changed to 'lbfgs' in 0.22. Specify a solver to silence this warning.\n",
      "  FutureWarning)\n",
      "/home/rahul-mn/.local/lib/python3.7/site-packages/sklearn/linear_model/logistic.py:432: FutureWarning: Default solver will be changed to 'lbfgs' in 0.22. Specify a solver to silence this warning.\n",
      "  FutureWarning)\n",
      "/home/rahul-mn/.local/lib/python3.7/site-packages/sklearn/linear_model/logistic.py:432: FutureWarning: Default solver will be changed to 'lbfgs' in 0.22. Specify a solver to silence this warning.\n",
      "  FutureWarning)\n",
      "/home/rahul-mn/.local/lib/python3.7/site-packages/sklearn/linear_model/logistic.py:432: FutureWarning: Default solver will be changed to 'lbfgs' in 0.22. Specify a solver to silence this warning.\n",
      "  FutureWarning)\n",
      "/home/rahul-mn/.local/lib/python3.7/site-packages/sklearn/linear_model/logistic.py:432: FutureWarning: Default solver will be changed to 'lbfgs' in 0.22. Specify a solver to silence this warning.\n",
      "  FutureWarning)\n",
      "/home/rahul-mn/.local/lib/python3.7/site-packages/sklearn/linear_model/logistic.py:432: FutureWarning: Default solver will be changed to 'lbfgs' in 0.22. Specify a solver to silence this warning.\n",
      "  FutureWarning)\n",
      "/home/rahul-mn/.local/lib/python3.7/site-packages/sklearn/linear_model/logistic.py:432: FutureWarning: Default solver will be changed to 'lbfgs' in 0.22. Specify a solver to silence this warning.\n",
      "  FutureWarning)\n",
      "/home/rahul-mn/.local/lib/python3.7/site-packages/sklearn/linear_model/logistic.py:432: FutureWarning: Default solver will be changed to 'lbfgs' in 0.22. Specify a solver to silence this warning.\n",
      "  FutureWarning)\n",
      "/home/rahul-mn/.local/lib/python3.7/site-packages/sklearn/linear_model/logistic.py:432: FutureWarning: Default solver will be changed to 'lbfgs' in 0.22. Specify a solver to silence this warning.\n",
      "  FutureWarning)\n",
      "/home/rahul-mn/.local/lib/python3.7/site-packages/sklearn/linear_model/logistic.py:432: FutureWarning: Default solver will be changed to 'lbfgs' in 0.22. Specify a solver to silence this warning.\n",
      "  FutureWarning)\n",
      "/home/rahul-mn/.local/lib/python3.7/site-packages/sklearn/linear_model/logistic.py:432: FutureWarning: Default solver will be changed to 'lbfgs' in 0.22. Specify a solver to silence this warning.\n",
      "  FutureWarning)\n",
      "/home/rahul-mn/.local/lib/python3.7/site-packages/sklearn/linear_model/logistic.py:432: FutureWarning: Default solver will be changed to 'lbfgs' in 0.22. Specify a solver to silence this warning.\n",
      "  FutureWarning)\n",
      "/home/rahul-mn/.local/lib/python3.7/site-packages/sklearn/linear_model/logistic.py:432: FutureWarning: Default solver will be changed to 'lbfgs' in 0.22. Specify a solver to silence this warning.\n",
      "  FutureWarning)\n",
      "/home/rahul-mn/.local/lib/python3.7/site-packages/sklearn/linear_model/logistic.py:432: FutureWarning: Default solver will be changed to 'lbfgs' in 0.22. Specify a solver to silence this warning.\n",
      "  FutureWarning)\n",
      "/home/rahul-mn/.local/lib/python3.7/site-packages/sklearn/linear_model/logistic.py:432: FutureWarning: Default solver will be changed to 'lbfgs' in 0.22. Specify a solver to silence this warning.\n",
      "  FutureWarning)\n",
      "/home/rahul-mn/.local/lib/python3.7/site-packages/sklearn/linear_model/logistic.py:432: FutureWarning: Default solver will be changed to 'lbfgs' in 0.22. Specify a solver to silence this warning.\n",
      "  FutureWarning)\n",
      "/home/rahul-mn/.local/lib/python3.7/site-packages/sklearn/linear_model/logistic.py:432: FutureWarning: Default solver will be changed to 'lbfgs' in 0.22. Specify a solver to silence this warning.\n",
      "  FutureWarning)\n"
     ]
    },
    {
     "name": "stdout",
     "output_type": "stream",
     "text": [
      "[False  True False  True  True False False False False False False False\n",
      " False False  True  True  True  True  True False False False False False\n",
      " False False False False False False False  True  True  True  True  True\n",
      "  True  True  True  True False  True False  True  True]\n",
      "[ 2  1  4  1  1  9 19 11 16 22 20 18 25 24  1  1  1  1  1  5 21 13 12  7\n",
      " 17 23 14 10 15  6  3  1  1  1  1  1  1  1  1  1 26  1  8  1  1]\n"
     ]
    }
   ],
   "source": [
    "from sklearn.feature_selection import RFE\n",
    "from sklearn.linear_model import LogisticRegression\n",
    "logreg = LogisticRegression()\n",
    "rfe = RFE(logreg, 20)\n",
    "rfe = rfe.fit(os_data_X, os_data_y.values.ravel())\n",
    "print(rfe.support_)\n",
    "print(rfe.ranking_)"
   ]
  },
  {
   "cell_type": "code",
   "execution_count": null,
   "metadata": {},
   "outputs": [],
   "source": []
  }
 ],
 "metadata": {
  "kernelspec": {
   "display_name": "Python 3",
   "language": "python",
   "name": "python3"
  },
  "language_info": {
   "codemirror_mode": {
    "name": "ipython",
    "version": 3
   },
   "file_extension": ".py",
   "mimetype": "text/x-python",
   "name": "python",
   "nbconvert_exporter": "python",
   "pygments_lexer": "ipython3",
   "version": "3.7.5rc1"
  }
 },
 "nbformat": 4,
 "nbformat_minor": 2
}
